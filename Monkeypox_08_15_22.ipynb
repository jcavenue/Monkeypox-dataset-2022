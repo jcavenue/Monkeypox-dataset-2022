{
  "cells": [
    {
      "cell_type": "markdown",
      "metadata": {
        "id": "gREwMDOK8Fb1"
      },
      "source": [
        "Importing Necessary Library"
      ]
    },
    {
      "cell_type": "code",
      "execution_count": null,
      "metadata": {
        "id": "ZVGhiCYe775f"
      },
      "outputs": [],
      "source": [
        "\n",
        "from tensorflow.keras.preprocessing.image import ImageDataGenerator\n",
        "#from keras.applications import resnet\n",
        "from tensorflow.keras.applications import VGG16, ResNet50, ResNet101, InceptionResNetV2\n",
        "from tensorflow.keras.layers import AveragePooling2D\n",
        "from tensorflow.keras.layers import Dropout\n",
        "from tensorflow.keras.layers import Flatten\n",
        "from tensorflow.keras.layers import Dense\n",
        "from tensorflow.keras.layers import Input\n",
        "from tensorflow.keras.models import Model\n",
        "from tensorflow.keras.optimizers import Adam, SGD\n",
        "from tensorflow.keras.utils import to_categorical\n",
        "from sklearn.preprocessing import LabelBinarizer\n",
        "from sklearn.model_selection import train_test_split\n",
        "from sklearn.metrics import classification_report\n",
        "from sklearn.metrics import confusion_matrix\n",
        "from imutils import paths\n",
        "import matplotlib.pyplot as plt\n",
        "import numpy as np\n",
        "import argparse\n",
        "import cv2\n",
        "import os"
      ]
    },
    {
      "cell_type": "markdown",
      "metadata": {
        "id": "0Weu7J-y8TFs"
      },
      "source": [
        "Loading the Dataset"
      ]
    },
    {
      "cell_type": "code",
      "execution_count": null,
      "metadata": {
        "colab": {
          "base_uri": "https://localhost:8080/"
        },
        "id": "6kfsoIj68Pwv",
        "outputId": "3f6a07b7-94ad-4847-9e26-d1905ffbefbc"
      },
      "outputs": [
        {
          "output_type": "stream",
          "name": "stdout",
          "text": [
            "[INFO] loading images...\n"
          ]
        }
      ],
      "source": [
        "print(\"[INFO] loading images...\")\n",
        "imagePaths =list(paths.list_images(\"/content/drive/MyDrive/monkeypox/gray\"))# give the dataset path\n",
        "data = []\n",
        "labels = []"
      ]
    },
    {
      "cell_type": "code",
      "execution_count": null,
      "metadata": {
        "id": "iDrsbhUxDL0o"
      },
      "outputs": [],
      "source": [
        "for imagePath in imagePaths:\n",
        "\t# extract the class label from the filename\n",
        "\tlabel = imagePath.split(os.path.sep)[-2]\n",
        "\t# load the image, swap color channels, and resize it to be a fixed\n",
        "\t# 224x224 pixels while ignoring aspect ratio\n",
        "\timage = cv2.imread(imagePath)\n",
        "\timage = cv2.cvtColor(image, cv2.COLOR_BGR2RGB)\n",
        "\timage = cv2.resize(image, (224, 224))\n",
        "\t# update the data and labels lists, respectively\n",
        "\tdata.append(image)\n",
        "\tlabels.append(label)\n",
        "# convert the data and labels to NumPy arrays while scaling the pixel\n",
        "# intensities to the range [0, 1]\n",
        "data = np.array(data) / 255.0\n",
        "labels = np.array(labels)"
      ]
    },
    {
      "cell_type": "markdown",
      "metadata": {
        "id": "GHPzBrp98XCc"
      },
      "source": [
        "Image preprocessing and extract the Label"
      ]
    },
    {
      "cell_type": "code",
      "execution_count": null,
      "metadata": {
        "id": "1Q1DQ7WG8V2n"
      },
      "outputs": [],
      "source": [
        "lb = LabelBinarizer()\n",
        "labels = lb.fit_transform(labels)\n",
        "labels = to_categorical(labels)\n",
        "# from sklearn.preprocessing import LabelEncoder\n",
        "# le = LabelEncoder()\n",
        "# labels = le.fit_transform(labels)\n",
        "# partition the data into training and testing splits using 80% of\n",
        "# the data for training and the remaining 20% for testing\n",
        "(trainX, testX, trainY, testY) = train_test_split(data, labels,\n",
        "\ttest_size=0.20, random_state=42,stratify=labels)\n",
        "# initialize the training data augmentation object\n",
        "trainAug = ImageDataGenerator(\n",
        "\trotation_range=15,\n",
        "\tfill_mode=\"nearest\")"
      ]
    },
    {
      "cell_type": "code",
      "execution_count": null,
      "metadata": {
        "id": "rq0HlzUx8kbZ"
      },
      "outputs": [],
      "source": [
        "#baseModel =VGG16(weights=\"imagenet\", include_top=False, input_tensor=Input(shape=(224, 224, 3)))\n",
        "#baseModel =ResNet50(weights=\"imagenet\", include_top=False, input_tensor=Input(shape=(224, 224, 3)))\n",
        "baseModel =ResNet101(weights=\"imagenet\", include_top=False, input_tensor=Input(shape=(224, 224, 3)))\n",
        "#baseModel =InceptionResNetV2(weights=\"imagenet\", include_top=False, input_tensor=Input(shape=(224, 224, 3)))\n",
        "headModel = baseModel.output\n",
        "headModel = AveragePooling2D(pool_size=(4, 4))(headModel)\n",
        "headModel = Flatten(name=\"flatten\")(headModel)\n",
        "headModel = Dense(64, activation=\"relu\")(headModel)\n",
        "headModel = Dropout(0.5)(headModel)\n",
        "headModel = Dense(2, activation=\"softmax\")(headModel)\n",
        "model = Model(inputs=baseModel.input, outputs=headModel)\n",
        "for layer in baseModel.layers:\n",
        "\tlayer.trainable = False\n",
        "\t# compile our model"
      ]
    },
    {
      "cell_type": "code",
      "execution_count": null,
      "metadata": {
        "id": "Z6sNKjxn8q4x"
      },
      "outputs": [],
      "source": [
        "#model.summary()"
      ]
    },
    {
      "cell_type": "code",
      "execution_count": null,
      "metadata": {
        "id": "gCjeCi5QDfGE"
      },
      "outputs": [],
      "source": [
        "INIT_LR = 1e-3\n",
        "EPOCHS = 100\n",
        "BS = 30"
      ]
    },
    {
      "cell_type": "code",
      "execution_count": null,
      "metadata": {
        "id": "HL-_1WR08sjr"
      },
      "outputs": [],
      "source": [
        "import tensorflow as tf\n",
        "#opt = Adam(lr=INIT_LR, decay=INIT_LR / EPOCHS)\n",
        "#opt = tf.keras.optimizers.SGD(learning_rate=INIT_LR)\n",
        "opt = tf.keras.optimizers.RMSprop(learning_rate=INIT_LR)"
      ]
    },
    {
      "cell_type": "code",
      "execution_count": null,
      "metadata": {
        "colab": {
          "base_uri": "https://localhost:8080/"
        },
        "id": "bRldY_9V8uL5",
        "outputId": "127031b3-da86-4cd0-b444-e44c39f7a44f"
      },
      "outputs": [
        {
          "output_type": "stream",
          "name": "stdout",
          "text": [
            "[INFO] compiling model...\n",
            "[INFO] training head...\n",
            "Epoch 1/100\n",
            "46/46 [==============================] - 23s 378ms/step - loss: 0.6582 - accuracy: 0.6613 - val_loss: 0.6365 - val_accuracy: 0.6667\n",
            "Epoch 2/100\n",
            "46/46 [==============================] - 15s 329ms/step - loss: 0.6489 - accuracy: 0.6664 - val_loss: 0.6356 - val_accuracy: 0.6667\n",
            "Epoch 3/100\n",
            "46/46 [==============================] - 15s 325ms/step - loss: 0.6488 - accuracy: 0.6664 - val_loss: 0.6435 - val_accuracy: 0.6667\n",
            "Epoch 4/100\n",
            "46/46 [==============================] - 15s 326ms/step - loss: 0.6435 - accuracy: 0.6657 - val_loss: 0.6410 - val_accuracy: 0.6667\n",
            "Epoch 5/100\n",
            "46/46 [==============================] - 16s 342ms/step - loss: 0.6482 - accuracy: 0.6642 - val_loss: 0.6332 - val_accuracy: 0.6667\n",
            "Epoch 6/100\n",
            "46/46 [==============================] - 15s 326ms/step - loss: 0.6489 - accuracy: 0.6628 - val_loss: 0.6505 - val_accuracy: 0.6667\n",
            "Epoch 7/100\n",
            "46/46 [==============================] - 15s 325ms/step - loss: 0.6491 - accuracy: 0.6621 - val_loss: 0.6382 - val_accuracy: 0.6667\n",
            "Epoch 8/100\n",
            "46/46 [==============================] - 15s 326ms/step - loss: 0.6455 - accuracy: 0.6664 - val_loss: 0.6357 - val_accuracy: 0.6667\n",
            "Epoch 9/100\n",
            "46/46 [==============================] - 15s 330ms/step - loss: 0.6463 - accuracy: 0.6657 - val_loss: 0.6318 - val_accuracy: 0.6667\n",
            "process time: 158.82207249200002\n",
            "9\n"
          ]
        }
      ],
      "source": [
        "# compile our model\n",
        "print(\"[INFO] compiling model...\")\n",
        "#opt = Adam(learning_rate=INIT_LR, decay=INIT_LR / EPOCHS)\n",
        "model.compile(loss=\"binary_crossentropy\", optimizer=opt,\n",
        "\tmetrics=[\"accuracy\"])\n",
        "#model.compile(loss=\"hinge\", optimizer=opt,\n",
        "\t#metrics=[\"accuracy\"])\n",
        "# train the head of the network\n",
        "print(\"[INFO] training head...\")\n",
        "callback = tf.keras.callbacks.EarlyStopping(monitor='loss', patience=5)\n",
        "import time\n",
        "t1=time.process_time()\n",
        "H = model.fit(\n",
        "\ttrainAug.flow(trainX, trainY, batch_size=BS),\n",
        "\tsteps_per_epoch=len(trainX) // BS,\n",
        "\tvalidation_data=(testX, testY),\n",
        "\tvalidation_steps=len(testX) // BS,\n",
        "\tepochs=EPOCHS,callbacks=[callback])\n",
        "t2 =time.process_time()\n",
        "print(\"process time:\", t2-t1)  \n",
        "#model.save(\"vgg16.h5\")\n",
        "print(len(H.history['loss']))"
      ]
    },
    {
      "cell_type": "code",
      "execution_count": null,
      "metadata": {
        "colab": {
          "base_uri": "https://localhost:8080/"
        },
        "id": "tIPRvS1ohE9E",
        "outputId": "c52ae5e3-016b-492a-b523-1513fdb00fa5"
      },
      "outputs": [
        {
          "output_type": "stream",
          "name": "stdout",
          "text": [
            "9\n"
          ]
        }
      ],
      "source": [
        "print(len(H.history['loss']))"
      ]
    },
    {
      "cell_type": "code",
      "execution_count": null,
      "metadata": {
        "id": "loSuh1pj80Bh"
      },
      "outputs": [],
      "source": [
        "model.save_weights(\"my_model_weights.h5\")"
      ]
    },
    {
      "cell_type": "code",
      "execution_count": null,
      "metadata": {
        "id": "5531Zaap82a4",
        "colab": {
          "base_uri": "https://localhost:8080/"
        },
        "outputId": "8c3373a8-52e3-4b3b-e0ee-5aa343de8d6f"
      },
      "outputs": [
        {
          "output_type": "stream",
          "name": "stdout",
          "text": [
            "                         precision    recall  f1-score   support\n",
            "\n",
            "Monkeypox_total_augment       0.00      0.00      0.00       470\n",
            "                  Other       0.67      1.00      0.80       933\n",
            "\n",
            "               accuracy                           0.67      1403\n",
            "              macro avg       0.33      0.50      0.40      1403\n",
            "           weighted avg       0.44      0.67      0.53      1403\n",
            "\n"
          ]
        },
        {
          "output_type": "stream",
          "name": "stderr",
          "text": [
            "/usr/local/lib/python3.7/dist-packages/sklearn/metrics/_classification.py:1318: UndefinedMetricWarning: Precision and F-score are ill-defined and being set to 0.0 in labels with no predicted samples. Use `zero_division` parameter to control this behavior.\n",
            "  _warn_prf(average, modifier, msg_start, len(result))\n",
            "/usr/local/lib/python3.7/dist-packages/sklearn/metrics/_classification.py:1318: UndefinedMetricWarning: Precision and F-score are ill-defined and being set to 0.0 in labels with no predicted samples. Use `zero_division` parameter to control this behavior.\n",
            "  _warn_prf(average, modifier, msg_start, len(result))\n",
            "/usr/local/lib/python3.7/dist-packages/sklearn/metrics/_classification.py:1318: UndefinedMetricWarning: Precision and F-score are ill-defined and being set to 0.0 in labels with no predicted samples. Use `zero_division` parameter to control this behavior.\n",
            "  _warn_prf(average, modifier, msg_start, len(result))\n"
          ]
        }
      ],
      "source": [
        "#classification report on training\n",
        "predIdxs = model.predict(trainX)\n",
        "# for each image in the testing set we need to find the index of the\n",
        "# label with corresponding largest predicted probability\n",
        "trainpredict = np.argmax(predIdxs, axis=1)\n",
        "print(classification_report(trainY.argmax(axis=1), trainpredict,\n",
        "\ttarget_names=lb.classes_))"
      ]
    },
    {
      "cell_type": "code",
      "execution_count": null,
      "metadata": {
        "id": "ZkPBjnsp9AXv",
        "colab": {
          "base_uri": "https://localhost:8080/"
        },
        "outputId": "62b95ce9-542f-4499-aae0-761c07b2ea73"
      },
      "outputs": [
        {
          "output_type": "stream",
          "name": "stdout",
          "text": [
            "[[  0 470]\n",
            " [  0 933]]\n",
            "acc: 0.6650\n",
            "sensitivity: 0.0000\n",
            "specificity: 1.0000\n"
          ]
        }
      ],
      "source": [
        "# compute the confusion matrix and and use it to derive the raw\n",
        "# accuracy, sensitivity, and specificity\n",
        "cm = confusion_matrix(trainY.argmax(axis=1), trainpredict)\n",
        "total = sum(sum(cm))\n",
        "print(cm)\n",
        "acc = (cm[0, 0] + cm[1, 1]) / total\n",
        "sensitivity = cm[0, 0] / (cm[0, 0] + cm[0, 1])\n",
        "specificity = cm[1, 1] / (cm[1, 0] + cm[1, 1])\n",
        "# show the confusion matrix, accuracy, sensitivity, and specificity\n",
        "print(\"acc: {:.4f}\".format(acc))\n",
        "print(\"sensitivity: {:.4f}\".format(sensitivity))\n",
        "print(\"specificity: {:.4f}\".format(specificity))"
      ]
    },
    {
      "cell_type": "code",
      "execution_count": null,
      "metadata": {
        "id": "mAhVyaba9C5G",
        "colab": {
          "base_uri": "https://localhost:8080/"
        },
        "outputId": "854531c2-bf71-423d-c52e-87632d84fee5"
      },
      "outputs": [
        {
          "output_type": "stream",
          "name": "stdout",
          "text": [
            "[INFO] evaluating network...\n",
            "                         precision    recall  f1-score   support\n",
            "\n",
            "Monkeypox_total_augment       0.00      0.00      0.00       117\n",
            "                  Other       0.67      1.00      0.80       234\n",
            "\n",
            "               accuracy                           0.67       351\n",
            "              macro avg       0.33      0.50      0.40       351\n",
            "           weighted avg       0.44      0.67      0.53       351\n",
            "\n"
          ]
        },
        {
          "output_type": "stream",
          "name": "stderr",
          "text": [
            "/usr/local/lib/python3.7/dist-packages/sklearn/metrics/_classification.py:1318: UndefinedMetricWarning: Precision and F-score are ill-defined and being set to 0.0 in labels with no predicted samples. Use `zero_division` parameter to control this behavior.\n",
            "  _warn_prf(average, modifier, msg_start, len(result))\n",
            "/usr/local/lib/python3.7/dist-packages/sklearn/metrics/_classification.py:1318: UndefinedMetricWarning: Precision and F-score are ill-defined and being set to 0.0 in labels with no predicted samples. Use `zero_division` parameter to control this behavior.\n",
            "  _warn_prf(average, modifier, msg_start, len(result))\n",
            "/usr/local/lib/python3.7/dist-packages/sklearn/metrics/_classification.py:1318: UndefinedMetricWarning: Precision and F-score are ill-defined and being set to 0.0 in labels with no predicted samples. Use `zero_division` parameter to control this behavior.\n",
            "  _warn_prf(average, modifier, msg_start, len(result))\n"
          ]
        }
      ],
      "source": [
        "# make predictions on the testing set\n",
        "print(\"[INFO] evaluating network...\")\n",
        "predIdys = model.predict(testX, batch_size=BS)\n",
        "testpredict = np.argmax(predIdys, axis=1)\n",
        "print(classification_report(testY.argmax(axis=1), testpredict,\n",
        "\ttarget_names=lb.classes_))"
      ]
    },
    {
      "cell_type": "code",
      "execution_count": null,
      "metadata": {
        "colab": {
          "base_uri": "https://localhost:8080/"
        },
        "id": "uIw0a_S99JzO",
        "outputId": "91f6e39b-90fe-4a02-9ba8-3dae9d93782e"
      },
      "outputs": [
        {
          "output_type": "stream",
          "name": "stdout",
          "text": [
            "[[  0 117]\n",
            " [  0 234]]\n",
            "acc: 0.6667\n",
            "sensitivity: 0.0000\n",
            "specificity: 1.0000\n"
          ]
        }
      ],
      "source": [
        "# compute the confusion matrix and and use it to derive the raw\n",
        "# accuracy, sensitivity, and specificity\n",
        "cm = confusion_matrix(testY.argmax(axis=1), testpredict)\n",
        "total = sum(sum(cm))\n",
        "print(cm)\n",
        "acc = (cm[0, 0] + cm[1, 1]) / total\n",
        "sensitivity = cm[0, 0] / (cm[0, 0] + cm[0, 1])\n",
        "specificity = cm[1, 1] / (cm[1, 0] + cm[1, 1])\n",
        "# show the confusion matrix, accuracy, sensitivity, and specificity\n",
        "print(\"acc: {:.4f}\".format(acc))\n",
        "print(\"sensitivity: {:.4f}\".format(sensitivity))\n",
        "print(\"specificity: {:.4f}\".format(specificity))"
      ]
    },
    {
      "cell_type": "code",
      "execution_count": null,
      "metadata": {
        "id": "dETu2tjq9MRD",
        "colab": {
          "base_uri": "https://localhost:8080/",
          "height": 232
        },
        "outputId": "c41fa3ee-66a7-489f-f08f-42ebfb90d729"
      },
      "outputs": [
        {
          "output_type": "display_data",
          "data": {
            "text/plain": [
              "<Figure size 288x216 with 1 Axes>"
            ],
            "image/png": "[encoded data removed]"
          },
          "metadata": {
            "needs_background": "light"
          }
        }
      ],
      "source": [
        "from sklearn import metrics\n",
        "from sklearn.metrics import roc_auc_score, auc\n",
        "from sklearn.metrics import roc_curve\n",
        "fig = plt.figure(figsize = (4, 3))\n",
        "fpr1,tpr1,_=roc_curve(np.argmax(trainY, axis=1),np.argmax(predIdxs, axis=1))\n",
        "fpr2,tpr2,_=roc_curve(np.argmax(testY, axis=1),np.argmax(predIdys, axis=1))\n",
        "area_under_curve1=auc(fpr1,tpr1)\n",
        "random_probs=[0 for i in range(len(trainY.ravel()))]\n",
        "p_fpr1,p_tpr1,threshold=roc_curve(trainY.ravel(),random_probs, pos_label=1)\n",
        "plt.plot(fpr1,tpr1, label='Train AUC = {:.3f}'.format(area_under_curve1))\n",
        "plt.plot(p_fpr1, p_tpr1)\n",
        "area_under_curve2=auc(fpr2,tpr2)\n",
        "random_probs2=[0 for i in range(len(testY.ravel()))]\n",
        "p_fpr2,p_tpr2,threshold=roc_curve(testY.ravel(),random_probs2, pos_label=1)\n",
        "plt.plot(fpr2,tpr2, label='Test AUC = {:.3f}'.format(area_under_curve2))\n",
        "plt.plot(p_fpr2, p_tpr2)\n",
        "\n",
        "    # x label\n",
        "plt.xlabel('FPR',fontsize=14, fontdict=dict(weight='bold'))\n",
        "    # y label\n",
        "plt.ylabel('TPR', fontsize=14, fontdict=dict(weight='bold'))\n",
        "plt.xticks( rotation=0, weight = 'bold', )\n",
        "plt.yticks( rotation=0, weight = 'bold')\n",
        "plt.tick_params(rotation=0,axis='y', labelsize=12)\n",
        "plt.tick_params(rotation=0,axis='x', labelsize=12)\n",
        "plt.legend()\n",
        "plt.legend(prop={'size':12})\n",
        "plt.savefig('ROC',dpi=200, bbox_inches='tight')\n",
        "plt.show();"
      ]
    },
    {
      "cell_type": "code",
      "execution_count": null,
      "metadata": {
        "id": "Ufb5qFGA9UzW",
        "colab": {
          "base_uri": "https://localhost:8080/",
          "height": 288
        },
        "outputId": "1c5159d7-e778-4068-e22e-12c60e928bcd"
      },
      "outputs": [
        {
          "output_type": "display_data",
          "data": {
            "text/plain": [
              "<Figure size 432x288 with 1 Axes>"
            ],
            "image/png": "[encoded data removed]"
          },
          "metadata": {
            "needs_background": "light"
          }
        }
      ],
      "source": [
        "#import seaborn as sns \n",
        "#plt.style.use('default') \n",
        "from matplotlib.ticker import FormatStrFormatter\n",
        "\n",
        "#fig, ax = plt.subplots()\n",
        "#fig = plt.figure(figsize = (4, 3))\n",
        "#ax.yaxis.set_major_formatter(FormatStrFormatter('%.2f'))\n",
        "import matplotlib\n",
        "import matplotlib.pyplot as plt\n",
        "from matplotlib.ticker import FormatStrFormatter\n",
        "\n",
        "N=len(H.history['loss'])\n",
        "fig, ax = plt.subplots()\n",
        "#plt.rcParams[\"font.family\"] = \"serif\"\n",
        "acc = H.history['accuracy']\n",
        "val_acc = H.history['val_accuracy']\n",
        "#font={'size':10}\n",
        "#matplotlib.rc('font',**font)\n",
        "loss = H.history['loss']\n",
        "val_loss = H.history['val_loss']\n",
        "epochs = range(1, len(acc) + 1)\n",
        "plt.plot(np.arange(0, N), H.history[\"accuracy\"], label=\"TA\")\n",
        "#plt.plot(epochs, loss, label='Training loss')\n",
        "plt.plot(np.arange(0, N), H.history[\"val_accuracy\"], label=\"VA\")\n",
        "plt.plot(epochs, loss, label='TL')\n",
        "#plt.plot(np.arange(0, N), H.history[\"val_accuracy\"], label=\"validation accuracy\")\n",
        "plt.plot(np.arange(0, N), val_loss, label='VS')\n",
        "#plt.plot(epochs, acc, 'bo', label='Training acc')\n",
        "#plt.plot(1, val_acc, 'b', label='Validation acc')\n",
        "#plt.title('Training and validation accuracy')\n",
        "plt.xlabel('Epochs',fontsize=16, fontdict=dict(weight='bold'))\n",
        "    # y label\n",
        "plt.ylabel('Accuracy/Loss', fontsize=16, fontdict=dict(weight='bold'))\n",
        "#plt.ylabel(\"Accuracy\")\n",
        "#plt.xlabel(\"Epochs\")\n",
        "plt.xticks( rotation=0, weight = 'bold' )\n",
        "plt.yticks( rotation=0, weight = 'bold')\n",
        "plt.tick_params(rotation=0,axis='y', labelsize=14)\n",
        "plt.tick_params(rotation=0,axis='x', labelsize=14)\n",
        "#plt.grid('white')\n",
        "#plt.grid(axis='x', color='0.95')\n",
        "plt.legend(loc='best')\n",
        "plt.legend(prop={'size':12})\n",
        "#fig = plt.figure(figsize = (4, 3))\n",
        "plt.savefig('ACC',dpi=200, bbox_inches='tight')\n",
        "plt.show()"
      ]
    },
    {
      "cell_type": "code",
      "execution_count": null,
      "metadata": {
        "id": "k_EPjiE99aMU"
      },
      "outputs": [],
      "source": [
        "# import numpy as np\n",
        "# import cv2\n",
        "# from google.colab.patches import cv2_imshow\n",
        "# from skimage import transform, io\n",
        "\n",
        "# import skimage\n",
        "# #xi = cv2.imread(\"/content/drive/MyDrive/monkeypox/gray/Monkeypox_gray/monkeypox00.jpg\")\n",
        "# #xi = cv2.imread(\"/content/2019-novel-Coronavirus-severe-adult-respiratory-dist_2020_International-Jour-p3-89%0.png\")\n",
        "\n",
        "# Xi = io.imread(\"/content/drive/MyDrive/monkeypox/gray/Monkeypox_gray/monkeypox02.jpg\")\n",
        "# #Xi = skimage.io.imread(\"/content/drive/MyDrive/monkeypox/augmentedgray/Normal_image_gray_augmented/normalgray_aug105.jpg\")\n",
        "\n",
        "# #xi=cv2.resize(xi,(299,299))\n",
        "# #cv2_imshow(xi/2+0.5)\n",
        "\n",
        "# Xi = transform.resize(Xi, (299,299)) \n",
        "\n",
        "# Xi = (Xi - 0.5)*2 #Inception pre-processing\n",
        "\n",
        "# skimage.io.imshow(Xi/2+0.5) # Show image before inception preprocessing\n",
        "# plt.xticks([])\n",
        "# plt.yticks([])\n",
        "# plt.show()"
      ]
    },
    {
      "cell_type": "code",
      "execution_count": null,
      "metadata": {
        "id": "VcZQsuZ_9jpF"
      },
      "outputs": [],
      "source": [
        "# #Generate segmentation for image\n",
        "\n",
        "# import skimage.segmentation\n",
        "# Xi = skimage.transform.resize(Xi, (299,299,3)) \n",
        "# superpixels = skimage.segmentation.quickshift(Xi, kernel_size=4,max_dist=200, ratio=0.2)\n",
        "\n",
        "# num_superpixels = np.unique(superpixels).shape[0]\n",
        "\n",
        "# skimage.io.imshow(skimage.segmentation.mark_boundaries(Xi/2+0.5, superpixels))\n",
        "\n",
        "\n",
        "\n",
        "# #Generate perturbations\n",
        "\n",
        "# num_perturb = 150\n",
        "\n",
        "# perturbations = np.random.binomial(1, 0.5, size=(num_perturb, num_superpixels))\n",
        "\n",
        "\n",
        "\n",
        "# #Create function to apply perturbations to images\n",
        "\n",
        "# import copy\n",
        "\n",
        "# def perturb_image(img,perturbation,segments): \n",
        "\n",
        "#   active_pixels = np.where(perturbation == 1)[0]\n",
        "\n",
        "#   mask = np.zeros(segments.shape)\n",
        "\n",
        "#   for active in active_pixels:\n",
        "\n",
        "#       mask[segments == active] = 1 \n",
        "\n",
        "#   perturbed_image = copy.deepcopy(img)\n",
        "\n",
        "#   perturbed_image = perturbed_image*mask[:,:,np.newaxis]\n",
        "\n",
        "#   return perturbed_image\n",
        "\n",
        "\n",
        "\n",
        "# #Show example of perturbations\n",
        "\n",
        "# print(perturbations[0]) \n",
        "\n",
        "# skimage.io.imshow(perturb_image(Xi/2+0.5,perturbations[0],superpixels))\n",
        "# plt.xticks([])\n",
        "# plt.yticks([])\n",
        "# plt.show()"
      ]
    },
    {
      "cell_type": "code",
      "execution_count": null,
      "metadata": {
        "id": "M_bLti1W9ncV"
      },
      "outputs": [],
      "source": [
        "# from skimage import io\n",
        "# from tensorflow.keras.preprocessing import image\n",
        "\n",
        "# #url = '/content/drive/MyDrive/monkeypox/gray/Monkeypox_gray/monkeypox02.jpg'\n",
        "# #url=\"/content/drive/MyDrive/monkeypox/mixed dataset/Other/measlesgray_aug254.jpg\"\n",
        "# #url=\"/content/drive/MyDrive/monkeypox/gray/Monkeypox_gray/monkeypox04.jpg\"\n",
        "# url=\"/content/drive/MyDrive/monkeypox/augmentedgray/Normal_image_gray_augmented/normalgray_aug105.jpg\"\n",
        "\n",
        "# def read_and_transform_img(url):\n",
        "\n",
        "#     img = skimage.io.imread(url)\n",
        "#     img = skimage.transform.resize(img, (224, 224,3))\n",
        "    \n",
        "#     img = image.img_to_array(img)\n",
        "#     img = np.expand_dims(img, axis=0)\n",
        "\n",
        "#     return img\n",
        "\n",
        "# images = read_and_transform_img(url)\n",
        "\n",
        "# preds = model.predict(images)\n",
        "# prediction = np.argmax(preds)\n",
        "# pct = np.max(preds)\n",
        "\n",
        "# if prediction == 0:\n",
        "#     print('It\\'s a Monkeypox!')\n",
        "# elif prediction == 1:\n",
        "#     print('It\\'s a others!')\n",
        "# else:\n",
        "#     print('Unable to predict!')\n",
        "\n",
        "# print(pct)"
      ]
    },
    {
      "cell_type": "code",
      "execution_count": null,
      "metadata": {
        "id": "SxZBuq-r9p2R"
      },
      "outputs": [],
      "source": [
        "# pip install lime"
      ]
    },
    {
      "cell_type": "code",
      "execution_count": null,
      "metadata": {
        "id": "DEnISgB79rtL"
      },
      "outputs": [],
      "source": [
        "# from lime import lime_image\n",
        "\n",
        "# explainer = lime_image.LimeImageExplainer()"
      ]
    },
    {
      "cell_type": "code",
      "execution_count": null,
      "metadata": {
        "id": "yKbia9Fw9tfN"
      },
      "outputs": [],
      "source": [
        "# explanation = explainer.explain_instance(images[0].astype('double'), model.predict,  \n",
        "#                                          top_labels=3, hide_color=0, num_samples=200)"
      ]
    },
    {
      "cell_type": "code",
      "execution_count": null,
      "metadata": {
        "id": "TK1EcrAD9vkl"
      },
      "outputs": [],
      "source": [
        "# from skimage.segmentation import mark_boundaries\n",
        "\n",
        "# temp_1, mask_1 = explanation.get_image_and_mask(explanation.top_labels[0], positive_only=True, num_features=5, hide_rest=True)\n",
        "# temp_2, mask_2 = explanation.get_image_and_mask(explanation.top_labels[0], positive_only=False, num_features=10, hide_rest=False)\n",
        "\n",
        "# fig, (ax1, ax2) = plt.subplots(1, 2, figsize=(5,5))\n",
        "# ax1.imshow(mark_boundaries(temp_1, mask_1))\n",
        "# ax2.imshow(mark_boundaries(temp_2, mask_2))\n",
        "# ax1.axis('off')\n",
        "# ax2.axis('off')"
      ]
    },
    {
      "cell_type": "code",
      "execution_count": null,
      "metadata": {
        "id": "1pcVdeWt9xSj"
      },
      "outputs": [],
      "source": [
        "# import numpy as np\n",
        "# import cv2\n",
        "# import matplotlib.pyplot as plt\n",
        "# from scipy.ndimage import zoom\n",
        "# from tensorflow.keras.applications.resnet50 import preprocess_input, decode_predictions\n",
        "# img = cv2.imread('/content/drive/MyDrive/monkeypox/gray/Monkeypox_gray/monkeypox00.jpg')\n",
        "# img = cv2.resize(img, (224, 224))\n",
        "# img = cv2.cvtColor(img, cv2.COLOR_BGR2RGB)\n",
        "# X = np.expand_dims(img, axis=0).astype(np.float32)\n",
        "# X = preprocess_input(X)"
      ]
    }
  ],
  "metadata": {
    "accelerator": "GPU",
    "colab": {
      "name": "Monkeypox_08_15_22.ipynb",
      "provenance": []
    },
    "gpuClass": "standard",
    "kernelspec": {
      "display_name": "Python 3",
      "name": "python3"
    },
    "language_info": {
      "name": "python"
    }
  },
  "nbformat": 4,
  "nbformat_minor": 0
}